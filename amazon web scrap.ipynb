{
 "cells": [
  {
   "cell_type": "code",
   "execution_count": 1,
   "id": "73c09c43",
   "metadata": {},
   "outputs": [
    {
     "name": "stdout",
     "output_type": "stream",
     "text": [
      "Requirement already satisfied: autoscraper in c:\\users\\gangaraj\\anaconda3\\lib\\site-packages (1.1.12)\n",
      "Requirement already satisfied: requests in c:\\users\\gangaraj\\anaconda3\\lib\\site-packages (from autoscraper) (2.26.0)\n",
      "Requirement already satisfied: bs4 in c:\\users\\gangaraj\\anaconda3\\lib\\site-packages (from autoscraper) (0.0.1)\n",
      "Requirement already satisfied: lxml in c:\\users\\gangaraj\\anaconda3\\lib\\site-packages (from autoscraper) (4.6.3)\n",
      "Requirement already satisfied: beautifulsoup4 in c:\\users\\gangaraj\\anaconda3\\lib\\site-packages (from bs4->autoscraper) (4.10.0)\n",
      "Requirement already satisfied: soupsieve>1.2 in c:\\users\\gangaraj\\anaconda3\\lib\\site-packages (from beautifulsoup4->bs4->autoscraper) (2.2.1)\n",
      "Requirement already satisfied: urllib3<1.27,>=1.21.1 in c:\\users\\gangaraj\\anaconda3\\lib\\site-packages (from requests->autoscraper) (1.26.7)\n",
      "Requirement already satisfied: certifi>=2017.4.17 in c:\\users\\gangaraj\\anaconda3\\lib\\site-packages (from requests->autoscraper) (2021.10.8)\n",
      "Requirement already satisfied: idna<4,>=2.5 in c:\\users\\gangaraj\\anaconda3\\lib\\site-packages (from requests->autoscraper) (3.2)\n",
      "Requirement already satisfied: charset-normalizer~=2.0.0 in c:\\users\\gangaraj\\anaconda3\\lib\\site-packages (from requests->autoscraper) (2.0.4)\n"
     ]
    }
   ],
   "source": [
    "# Firsrt we need to install autoscraper in order to make easy web scraping\n",
    "!pip install autoscraper"
   ]
  },
  {
   "cell_type": "code",
   "execution_count": 2,
   "id": "e4443282",
   "metadata": {},
   "outputs": [],
   "source": [
    "#import autoscraper\n",
    "from autoscraper import AutoScraper"
   ]
  },
  {
   "cell_type": "code",
   "execution_count": 7,
   "id": "6f6b6d3e",
   "metadata": {},
   "outputs": [],
   "source": [
    "#Here I have used amazon website to scrap all the titles and price of the particular products\n",
    "\n",
    "amazon_url=\"https://www.amazon.in/s?k=top+selling+books\"\n",
    "\n",
    "#Make list with as per your requirement\n",
    "#Here i selected the price, title and No.of.review \n",
    "\n",
    "wanted_list=[\"₹142\",\"The Secret\",\" 83,224\"]"
   ]
  },
  {
   "cell_type": "code",
   "execution_count": 12,
   "id": "29d450ea",
   "metadata": {},
   "outputs": [
    {
     "name": "stdout",
     "output_type": "stream",
     "text": [
      "[\"Harry Potter and the Philosopher's Stone\", 'The Silent Patient: The record-breaking, multimillion copy Sunday Times bestselling thriller and Richard & Judy book club pick', 'The Secret', 'Rich Dad Poor Dad: What the Rich Teach Their Kids About Money That the Poor and Middle Class Do Not!', 'The Power of Your Subconscious Mind', '400 Days', \"The Last Law of Attraction Book You'll Ever Need To Read: The Missing Key To Finally Tapping Into The Universe And Manifesting Your Desires\", 'Bruised Passports: Travelling the World as Digital Nomads', 'The Jungle Book (AmazonClassics Edition)', 'The Business Book Of Coaching: Your Ultimate Guide to a 7-Figure Coaching Business', 'Tenali Ramakrishna: Tenali Raman Stories in English', 'The Yearly Current Affairs 2022 for Competitive Exams (UPSC, State PSC, SSC, Bank PO/ Clerk, BBA, MBA, RRB, NDA, CDS, CAPF, CRPF) 7th Edition', 'Noble 289 Mega Police Bharti Prashnapatrika Sanch - 4th Ed./2022', 'Unfinished: A Memoir', 'COMPLETE ENGLISH IN 60 DAYS WITH BARKHA AGRAWAL', 'Women Who Run With The Wolves: Contacting the Power of the Wild Woman (Classic Edition)', 'The Silent Patient: The record-breaking, multimillion copy Sunday Times bestselling thriller and Richard & Judy book club ...', \"The Last Law of Attraction Book You'll Ever Need To Read: The Missing Key To Finally Tapping Into The Universe And Manifes...\", 'The Yearly Current Affairs 2022 for Competitive Exams (UPSC, State PSC, SSC, Bank PO/ Clerk, BBA, MBA, RRB, NDA, CDS, CAP...']\n"
     ]
    }
   ],
   "source": [
    "#We can scrap the required items by using scraper build function\n",
    "scraper=AutoScraper()\n",
    "result=scraper.build(amazon_url,wanted_list)\n",
    "print(result)\n"
   ]
  },
  {
   "cell_type": "code",
   "execution_count": 9,
   "id": "79c86ca2",
   "metadata": {},
   "outputs": [
    {
     "data": {
      "text/plain": [
       "{'rule_n4qc': [\"Harry Potter and the Philosopher's Stone\",\n",
       "  'The Silent Patient: The record-breaking, multimillion copy Sunday Times bestselling thriller and Richard & Judy book club pick',\n",
       "  'The Secret',\n",
       "  'Rich Dad Poor Dad: What the Rich Teach Their Kids About Money That the Poor and Middle Class Do Not!',\n",
       "  'The Power of Your Subconscious Mind',\n",
       "  '400 Days',\n",
       "  \"The Last Law of Attraction Book You'll Ever Need To Read: The Missing Key To Finally Tapping Into The Universe And Manifesting Your Desires\",\n",
       "  'Bruised Passports: Travelling the World as Digital Nomads',\n",
       "  'The Jungle Book (AmazonClassics Edition)',\n",
       "  'The Business Book Of Coaching: Your Ultimate Guide to a 7-Figure Coaching Business',\n",
       "  'Tenali Ramakrishna: Tenali Raman Stories in English',\n",
       "  'CHANAKYA KE TOP 100 PRERAK VICHAR (Chanakya In Daily Life : A Life Changing Book) (Hindi Edition)',\n",
       "  'The Other One (Unconventional Love Book 1)',\n",
       "  'The Yearly Current Affairs 2022 for Competitive Exams (UPSC, State PSC, SSC, Bank PO/ Clerk, BBA, MBA, RRB, NDA, CDS, CAPF, CRPF) 7th Edition',\n",
       "  'Noble 289 Mega Police Bharti Prashnapatrika Sanch - 4th Ed./2022',\n",
       "  'Unfinished: A Memoir'],\n",
       " 'rule_ocbr': [\"Harry Potter and the Philosopher's Stone\",\n",
       "  'The Silent Patient: The record-breaking, multimillion copy Sunday Times bestselling thriller and Richard & Judy book club ...',\n",
       "  'The Secret',\n",
       "  'Rich Dad Poor Dad: What the Rich Teach Their Kids About Money That the Poor and Middle Class Do Not!',\n",
       "  'The Power of Your Subconscious Mind',\n",
       "  '400 Days',\n",
       "  \"The Last Law of Attraction Book You'll Ever Need To Read: The Missing Key To Finally Tapping Into The Universe And Manifes...\",\n",
       "  'Bruised Passports: Travelling the World as Digital Nomads',\n",
       "  'The Jungle Book (AmazonClassics Edition)',\n",
       "  'The Business Book Of Coaching: Your Ultimate Guide to a 7-Figure Coaching Business',\n",
       "  'Tenali Ramakrishna: Tenali Raman Stories in English',\n",
       "  'CHANAKYA KE TOP 100 PRERAK VICHAR (Chanakya In Daily Life : A Life Changing Book) (Hindi Edition)',\n",
       "  'The Other One (Unconventional Love Book 1)',\n",
       "  'The Yearly Current Affairs 2022 for Competitive Exams (UPSC, State PSC, SSC, Bank PO/ Clerk, BBA, MBA, RRB, NDA, CDS, CAP...',\n",
       "  'Noble 289 Mega Police Bharti Prashnapatrika Sanch - 4th Ed./2022',\n",
       "  'Unfinished: A Memoir'],\n",
       " 'rule_2b56': ['35,202',\n",
       "  '83,224',\n",
       "  '28,845',\n",
       "  '53,238',\n",
       "  '48,328',\n",
       "  '6,478',\n",
       "  '1,557',\n",
       "  '6,949',\n",
       "  '211',\n",
       "  '4',\n",
       "  '38',\n",
       "  '21',\n",
       "  '44',\n",
       "  '1',\n",
       "  '4,180']}"
      ]
     },
     "execution_count": 9,
     "metadata": {},
     "output_type": "execute_result"
    }
   ],
   "source": [
    "#Group the results for better understanding\n",
    "scraper.get_result_similar(amazon_url,grouped = True)"
   ]
  },
  {
   "cell_type": "code",
   "execution_count": 10,
   "id": "a66ef4cc",
   "metadata": {},
   "outputs": [],
   "source": [
    "# We can use the similar method on any other websites.\n",
    "scraper.set_rule_aliases({\"rule_n4qc\": 'Title'})\n",
    "scraper.keep_rules([\"rule_n4qc\"])\n",
    "scraper.save('amazon-search')"
   ]
  },
  {
   "cell_type": "code",
   "execution_count": 11,
   "id": "15037feb",
   "metadata": {},
   "outputs": [
    {
     "data": {
      "text/plain": [
       "{'Title': ['OnePlus Nord CE 5G (Blue Void, 8GB RAM, 128GB Storage)',\n",
       "  'OnePlus Nord 2 5G (Blue Haze, 8GB RAM, 128GB Storage)',\n",
       "  'OnePlus Nord 2 5G (Gray Sierra, 8GB RAM, 128GB Storage)',\n",
       "  'OnePlus Nord 2 5G (Green Woods, 12GB RAM, 256GB Storage)',\n",
       "  'OnePlus Nord 2 5G (Gray Sierra, 12GB RAM, 256GB Storage)',\n",
       "  'OnePlus Nord 2 5G (Blue Haze, 12GB RAM, 256GB Storage)',\n",
       "  'OnePlus 9R 5G (Carbon Black, 12GB RAM, 256 GB Storage)',\n",
       "  'OnePlus 9 Pro 5G (Pine Green, 12GB RAM, 256GB Storage)',\n",
       "  'OnePlus 9RT 5G (Nano Silver, 8GB RAM, 128GB Storage)+Alexa hands-free capable',\n",
       "  'OnePlus 9RT 5G (Hacker Black, 8GB RAM, 128GB Storage)+Alexa hands-free capable',\n",
       "  '(Renewed) OnePlus 7T Glacier Blue (8GB RAM+256GB Storage)',\n",
       "  'OnePlus 9R 5G (Lake Blue, 12GB RAM, 256GB Storage)',\n",
       "  'OnePlus 9 Pro 5G (Stellar Black, 12GB RAM, 256GB  Storage)',\n",
       "  '(Renewed) OnePlus 6 (Mirror Black, 6GB RAM, 64GB Storage)',\n",
       "  'OnePlus 9 Pro 5G (Morning Mist, 12GB RAM, 256GB Storage)',\n",
       "  'OnePlus Nord 2 X PAC-Man Edition (PAC-Man Edition, 12GB RAM, 256GB Storage) (NORD2)']}"
      ]
     },
     "execution_count": 11,
     "metadata": {},
     "output_type": "execute_result"
    }
   ],
   "source": [
    "results_oneplusphones = scraper.get_result_similar('https://www.amazon.in/s?k=oneplus+phones',group_by_alias=True)"
   ]
  },
  {
   "cell_type": "code",
   "execution_count": 15,
   "id": "d206edf1",
   "metadata": {},
   "outputs": [
    {
     "name": "stdout",
     "output_type": "stream",
     "text": [
      "{'': ['Redmi 80 cm (32 inches) HD Ready Smart LED TV | L32M6-RA (Black) (2021 Model) | With Android 11', 'Redmi 80 cm (32 inches) HD Ready Smart LED TV | L32M6-RA (Black) (2021 Model) | With Android 11', 'OnePlus 80 cm (32 inches) Y Series HD Ready LED Smart Android TV 32Y1 (Black) (2020 Model)', 'OnePlus 80 cm (32 inches) Y Series HD Ready LED Smart Android TV 32Y1 (Black) (2020 Model)', 'OnePlus 108 cm (43 inches) Y Series Full HD LED Smart Android TV 43Y1 (Black) (2020 Model)', 'OnePlus 108 cm (43 inches) Y Series Full HD LED Smart Android TV 43Y1 (Black) (2020 Model)', 'Acer 80 cm (32 inches) Boundless series HD Ready Android Smart LED TV AR32AP2841HDFL (Black) (2021 Model) | With Frameless...', 'Acer 80 cm (32 inches) Boundless series HD Ready Android Smart LED TV AR32AP2841HDFL (Black) (2021 Model) | With Frameless Design', 'Mi 80 cm (32 inches) HD Ready Android Smart LED TV 4A PRO | L32M5-AL (Black)', 'Mi 80 cm (32 inches) HD Ready Android Smart LED TV 4A PRO | L32M5-AL (Black)', 'eAirtec 81 cms (32 inches) HD Ready Smart LED TV 32DJSM (Black) (2020 Model)', 'eAirtec 81 cms (32 inches) HD Ready Smart LED TV 32DJSM (Black) (2020 Model)', 'Redmi 108 cm (43 inches) Full HD Smart LED TV | L43M6-RA (Black) (2021 Model) | With Android 11', 'Redmi 108 cm (43 inches) Full HD Smart LED TV | L43M6-RA (Black) (2021 Model) | With Android 11', 'LG 80 cm (32 inches) HD Ready Smart LED TV 32LM563BPTC (Dark Iron Gray) (2020 Model)', 'LG 80 cm (32 inches) HD Ready Smart LED TV 32LM563BPTC (Dark Iron Gray) (2020 Model)', 'Mi 100 cm (40 inches) Horizon Edition Full HD Android LED TV 4A | L40M6-EI (Black) (2021 Model)', 'Mi 100 cm (40 inches) Horizon Edition Full HD Android LED TV 4A | L40M6-EI (Black) (2021 Model)', 'Samsung 80 cm (32 Inches) Wondertainment Series HD Ready LED Smart TV UA32T4340AKXXL (Glossy Black) (2020 Model)', 'Samsung 80 cm (32 Inches) Wondertainment Series HD Ready LED Smart TV UA32T4340AKXXL (Glossy Black) (2020 Model)', 'Beston 80 cm (32 inches) HD Ready Smart LED TV BS32HW1 (Black) (2022 Model) | Powered by WebOS', 'Beston 80 cm (32 inches) HD Ready Smart LED TV BS32HW1 (Black) (2022 Model) | Powered by WebOS', 'Mi 108 cm (43 inches) Full HD Android LED TV 4C | L43M6-INC (Black)', 'Mi 108 cm (43 inches) Full HD Android LED TV 4C | L43M6-INC (Black)', 'AmazonBasics 81cm (32 inch) HD Ready Smart LED Fire TV AB32E10SS (Black) (2020 Model)', 'AmazonBasics 81cm (32 inch) HD Ready Smart LED Fire TV AB32E10SS (Black) (2020 Model)', 'Mi 108 cm (43 Inches) 4K Ultra HD Android Smart LED TV 4X | L43M4-4AIN (Black)', 'Mi 108 cm (43 Inches) 4K Ultra HD Android Smart LED TV 4X | L43M4-4AIN (Black)', 'TCL 100 cm (40 inches) Full HD Certified Android Smart LED TV 40S6500FS (Black) (2020 Model)', 'TCL 100 cm (40 inches) Full HD Certified Android Smart LED TV 40S6500FS (Black) (2020 Model)', 'eAirtec 102 cms (40 inches) HD Ready Smart LED TV 40DJSM (Black) (2020 Model)', 'eAirtec 102 cms (40 inches) HD Ready Smart LED TV 40DJSM (Black) (2020 Model)']}\n"
     ]
    }
   ],
   "source": [
    "results_tv = scraper.get_result_similar('https://www.amazon.in/s?k=tv',group_by_alias=True)\n",
    "print(results_tv)"
   ]
  },
  {
   "cell_type": "code",
   "execution_count": null,
   "id": "8c565f99",
   "metadata": {},
   "outputs": [],
   "source": [
    "# This project has not been completed yet . I will keep update.."
   ]
  },
  {
   "cell_type": "code",
   "execution_count": null,
   "id": "0e6a6517",
   "metadata": {},
   "outputs": [],
   "source": []
  },
  {
   "cell_type": "code",
   "execution_count": null,
   "id": "01d204a4",
   "metadata": {},
   "outputs": [],
   "source": []
  },
  {
   "cell_type": "code",
   "execution_count": null,
   "id": "f5eee104",
   "metadata": {},
   "outputs": [],
   "source": []
  },
  {
   "cell_type": "code",
   "execution_count": null,
   "id": "81912370",
   "metadata": {},
   "outputs": [],
   "source": []
  },
  {
   "cell_type": "code",
   "execution_count": null,
   "id": "0164370d",
   "metadata": {},
   "outputs": [],
   "source": []
  }
 ],
 "metadata": {
  "kernelspec": {
   "display_name": "Python 3 (ipykernel)",
   "language": "python",
   "name": "python3"
  },
  "language_info": {
   "codemirror_mode": {
    "name": "ipython",
    "version": 3
   },
   "file_extension": ".py",
   "mimetype": "text/x-python",
   "name": "python",
   "nbconvert_exporter": "python",
   "pygments_lexer": "ipython3",
   "version": "3.9.7"
  }
 },
 "nbformat": 4,
 "nbformat_minor": 5
}
